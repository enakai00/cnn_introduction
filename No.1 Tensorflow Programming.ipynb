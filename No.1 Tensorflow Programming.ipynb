{
 "cells": [
  {
   "cell_type": "markdown",
   "metadata": {
    "colab_type": "text",
    "id": "ysYHB_V5UPlN"
   },
   "source": [
    "# No.1 Tensorflow Programming"
   ]
  },
  {
   "cell_type": "markdown",
   "metadata": {
    "colab_type": "text",
    "id": "PWAdEDj0Q8OE"
   },
   "source": [
    "Import modules."
   ]
  },
  {
   "cell_type": "code",
   "execution_count": 1,
   "metadata": {
    "cellView": null,
    "colab": {
     "autoexec": {
      "startup": false,
      "wait_interval": 0
     },
     "output_extras": []
    },
    "colab_type": "code",
    "collapsed": true,
    "executionInfo": {
     "elapsed": 3868,
     "status": "ok",
     "timestamp": 1477271666550,
     "user": {
      "displayName": "Etsuji Nakai",
      "photoUrl": "//lh3.googleusercontent.com/-QyrzXWzrxTA/AAAAAAAAAAI/AAAAAAAACFU/MhcRSO-WEyY/s50-c-k-no/photo.jpg",
      "userId": "114362690379795500979"
     },
     "user_tz": -540
    },
    "id": "wkHJEg9bQ8OO",
    "outputId": "09ec2bb7-3ea8-47fd-f6ea-337040e7ffb2"
   },
   "outputs": [],
   "source": [
    "import tensorflow as tf\n",
    "import numpy as np\n",
    "import matplotlib.pyplot as plt\n",
    "from numpy.random import multivariate_normal, permutation\n",
    "import pandas as pd\n",
    "from pandas import DataFrame, Series"
   ]
  },
  {
   "cell_type": "markdown",
   "metadata": {
    "colab_type": "text",
    "id": "tep1XvQuQ8OY"
   },
   "source": [
    "Generate a training set."
   ]
  },
  {
   "cell_type": "code",
   "execution_count": 2,
   "metadata": {
    "cellView": null,
    "colab": {
     "autoexec": {
      "startup": false,
      "wait_interval": 0
     },
     "output_extras": []
    },
    "colab_type": "code",
    "collapsed": true,
    "executionInfo": {
     "elapsed": 1596,
     "status": "ok",
     "timestamp": 1477271671565,
     "user": {
      "displayName": "Etsuji Nakai",
      "photoUrl": "//lh3.googleusercontent.com/-QyrzXWzrxTA/AAAAAAAAAAI/AAAAAAAACFU/MhcRSO-WEyY/s50-c-k-no/photo.jpg",
      "userId": "114362690379795500979"
     },
     "user_tz": -540
    },
    "id": "T_j2br6mQ8Ol",
    "outputId": "d84a2230-264d-43d3-cfd0-c6141fa2a41c"
   },
   "outputs": [],
   "source": [
    "np.random.seed(20160512)\n",
    "\n",
    "n0, mu0, variance0 = 20, [10, 11], 20\n",
    "data0 = multivariate_normal(mu0, np.eye(2)*variance0 ,n0)\n",
    "df0 = DataFrame(data0, columns=['x1','x2'])\n",
    "df0['t'] = 0\n",
    "\n",
    "n1, mu1, variance1 = 15, [18, 20], 22\n",
    "data1 = multivariate_normal(mu1, np.eye(2)*variance1 ,n1)\n",
    "df1 = DataFrame(data1, columns=['x1','x2'])\n",
    "df1['t'] = 1\n",
    "\n",
    "df = pd.concat([df0, df1], ignore_index=True)\n",
    "train_set = df.reindex(permutation(df.index)).reset_index(drop=True)"
   ]
  },
  {
   "cell_type": "markdown",
   "metadata": {
    "colab_type": "text",
    "id": "fUkdQnRTQ8Oy"
   },
   "source": [
    "Show data in the training set."
   ]
  },
  {
   "cell_type": "code",
   "execution_count": 3,
   "metadata": {
    "cellView": null,
    "colab": {
     "autoexec": {
      "startup": false,
      "wait_interval": 0
     },
     "output_extras": [
      {
       "item_id": 1
      }
     ]
    },
    "colab_type": "code",
    "collapsed": false,
    "executionInfo": {
     "elapsed": 481,
     "status": "ok",
     "timestamp": 1477271680862,
     "user": {
      "displayName": "Etsuji Nakai",
      "photoUrl": "//lh3.googleusercontent.com/-QyrzXWzrxTA/AAAAAAAAAAI/AAAAAAAACFU/MhcRSO-WEyY/s50-c-k-no/photo.jpg",
      "userId": "114362690379795500979"
     },
     "user_tz": -540
    },
    "id": "3SihAXDpQ8O2",
    "outputId": "9e3ff4d9-b2ee-4a33-9b50-f558275f97b6"
   },
   "outputs": [
    {
     "data": {
      "text/html": [
       "<div>\n",
       "<table border=\"1\" class=\"dataframe\">\n",
       "  <thead>\n",
       "    <tr style=\"text-align: right;\">\n",
       "      <th></th>\n",
       "      <th>x1</th>\n",
       "      <th>x2</th>\n",
       "      <th>t</th>\n",
       "    </tr>\n",
       "  </thead>\n",
       "  <tbody>\n",
       "    <tr>\n",
       "      <th>0</th>\n",
       "      <td>20.729880</td>\n",
       "      <td>18.209359</td>\n",
       "      <td>1</td>\n",
       "    </tr>\n",
       "    <tr>\n",
       "      <th>1</th>\n",
       "      <td>16.503919</td>\n",
       "      <td>14.685085</td>\n",
       "      <td>0</td>\n",
       "    </tr>\n",
       "    <tr>\n",
       "      <th>2</th>\n",
       "      <td>5.508661</td>\n",
       "      <td>17.426775</td>\n",
       "      <td>0</td>\n",
       "    </tr>\n",
       "    <tr>\n",
       "      <th>3</th>\n",
       "      <td>9.167047</td>\n",
       "      <td>9.178837</td>\n",
       "      <td>0</td>\n",
       "    </tr>\n",
       "    <tr>\n",
       "      <th>4</th>\n",
       "      <td>8.640423</td>\n",
       "      <td>9.561952</td>\n",
       "      <td>0</td>\n",
       "    </tr>\n",
       "    <tr>\n",
       "      <th>5</th>\n",
       "      <td>10.500988</td>\n",
       "      <td>17.002584</td>\n",
       "      <td>0</td>\n",
       "    </tr>\n",
       "    <tr>\n",
       "      <th>6</th>\n",
       "      <td>16.484766</td>\n",
       "      <td>22.232997</td>\n",
       "      <td>1</td>\n",
       "    </tr>\n",
       "    <tr>\n",
       "      <th>7</th>\n",
       "      <td>6.979059</td>\n",
       "      <td>8.180596</td>\n",
       "      <td>0</td>\n",
       "    </tr>\n",
       "    <tr>\n",
       "      <th>8</th>\n",
       "      <td>11.701339</td>\n",
       "      <td>0.996734</td>\n",
       "      <td>0</td>\n",
       "    </tr>\n",
       "    <tr>\n",
       "      <th>9</th>\n",
       "      <td>21.367990</td>\n",
       "      <td>18.712309</td>\n",
       "      <td>1</td>\n",
       "    </tr>\n",
       "    <tr>\n",
       "      <th>10</th>\n",
       "      <td>2.742368</td>\n",
       "      <td>9.577106</td>\n",
       "      <td>0</td>\n",
       "    </tr>\n",
       "    <tr>\n",
       "      <th>11</th>\n",
       "      <td>19.889426</td>\n",
       "      <td>15.898579</td>\n",
       "      <td>1</td>\n",
       "    </tr>\n",
       "    <tr>\n",
       "      <th>12</th>\n",
       "      <td>11.327374</td>\n",
       "      <td>12.893008</td>\n",
       "      <td>0</td>\n",
       "    </tr>\n",
       "    <tr>\n",
       "      <th>13</th>\n",
       "      <td>14.197280</td>\n",
       "      <td>10.909934</td>\n",
       "      <td>0</td>\n",
       "    </tr>\n",
       "    <tr>\n",
       "      <th>14</th>\n",
       "      <td>22.302614</td>\n",
       "      <td>25.038878</td>\n",
       "      <td>1</td>\n",
       "    </tr>\n",
       "    <tr>\n",
       "      <th>15</th>\n",
       "      <td>7.173128</td>\n",
       "      <td>5.030339</td>\n",
       "      <td>0</td>\n",
       "    </tr>\n",
       "    <tr>\n",
       "      <th>16</th>\n",
       "      <td>11.165606</td>\n",
       "      <td>23.951555</td>\n",
       "      <td>1</td>\n",
       "    </tr>\n",
       "    <tr>\n",
       "      <th>17</th>\n",
       "      <td>5.327702</td>\n",
       "      <td>6.495280</td>\n",
       "      <td>0</td>\n",
       "    </tr>\n",
       "    <tr>\n",
       "      <th>18</th>\n",
       "      <td>20.633144</td>\n",
       "      <td>17.689928</td>\n",
       "      <td>1</td>\n",
       "    </tr>\n",
       "    <tr>\n",
       "      <th>19</th>\n",
       "      <td>21.519939</td>\n",
       "      <td>28.223327</td>\n",
       "      <td>1</td>\n",
       "    </tr>\n",
       "    <tr>\n",
       "      <th>20</th>\n",
       "      <td>16.130211</td>\n",
       "      <td>24.143617</td>\n",
       "      <td>1</td>\n",
       "    </tr>\n",
       "    <tr>\n",
       "      <th>21</th>\n",
       "      <td>10.097339</td>\n",
       "      <td>17.521928</td>\n",
       "      <td>0</td>\n",
       "    </tr>\n",
       "    <tr>\n",
       "      <th>22</th>\n",
       "      <td>17.442766</td>\n",
       "      <td>20.707834</td>\n",
       "      <td>1</td>\n",
       "    </tr>\n",
       "    <tr>\n",
       "      <th>23</th>\n",
       "      <td>12.368016</td>\n",
       "      <td>16.916404</td>\n",
       "      <td>1</td>\n",
       "    </tr>\n",
       "    <tr>\n",
       "      <th>24</th>\n",
       "      <td>18.030082</td>\n",
       "      <td>11.490216</td>\n",
       "      <td>1</td>\n",
       "    </tr>\n",
       "    <tr>\n",
       "      <th>25</th>\n",
       "      <td>4.436147</td>\n",
       "      <td>6.008804</td>\n",
       "      <td>0</td>\n",
       "    </tr>\n",
       "    <tr>\n",
       "      <th>26</th>\n",
       "      <td>13.586938</td>\n",
       "      <td>5.377042</td>\n",
       "      <td>0</td>\n",
       "    </tr>\n",
       "    <tr>\n",
       "      <th>27</th>\n",
       "      <td>11.653677</td>\n",
       "      <td>9.632250</td>\n",
       "      <td>0</td>\n",
       "    </tr>\n",
       "    <tr>\n",
       "      <th>28</th>\n",
       "      <td>7.032909</td>\n",
       "      <td>12.273721</td>\n",
       "      <td>0</td>\n",
       "    </tr>\n",
       "    <tr>\n",
       "      <th>29</th>\n",
       "      <td>20.662261</td>\n",
       "      <td>22.811282</td>\n",
       "      <td>1</td>\n",
       "    </tr>\n",
       "    <tr>\n",
       "      <th>30</th>\n",
       "      <td>16.450200</td>\n",
       "      <td>6.265440</td>\n",
       "      <td>0</td>\n",
       "    </tr>\n",
       "    <tr>\n",
       "      <th>31</th>\n",
       "      <td>8.942052</td>\n",
       "      <td>7.980884</td>\n",
       "      <td>0</td>\n",
       "    </tr>\n",
       "    <tr>\n",
       "      <th>32</th>\n",
       "      <td>25.464995</td>\n",
       "      <td>20.352601</td>\n",
       "      <td>1</td>\n",
       "    </tr>\n",
       "    <tr>\n",
       "      <th>33</th>\n",
       "      <td>10.633718</td>\n",
       "      <td>26.321456</td>\n",
       "      <td>1</td>\n",
       "    </tr>\n",
       "    <tr>\n",
       "      <th>34</th>\n",
       "      <td>3.547441</td>\n",
       "      <td>8.265382</td>\n",
       "      <td>0</td>\n",
       "    </tr>\n",
       "  </tbody>\n",
       "</table>\n",
       "</div>"
      ],
      "text/plain": [
       "           x1         x2  t\n",
       "0   20.729880  18.209359  1\n",
       "1   16.503919  14.685085  0\n",
       "2    5.508661  17.426775  0\n",
       "3    9.167047   9.178837  0\n",
       "4    8.640423   9.561952  0\n",
       "5   10.500988  17.002584  0\n",
       "6   16.484766  22.232997  1\n",
       "7    6.979059   8.180596  0\n",
       "8   11.701339   0.996734  0\n",
       "9   21.367990  18.712309  1\n",
       "10   2.742368   9.577106  0\n",
       "11  19.889426  15.898579  1\n",
       "12  11.327374  12.893008  0\n",
       "13  14.197280  10.909934  0\n",
       "14  22.302614  25.038878  1\n",
       "15   7.173128   5.030339  0\n",
       "16  11.165606  23.951555  1\n",
       "17   5.327702   6.495280  0\n",
       "18  20.633144  17.689928  1\n",
       "19  21.519939  28.223327  1\n",
       "20  16.130211  24.143617  1\n",
       "21  10.097339  17.521928  0\n",
       "22  17.442766  20.707834  1\n",
       "23  12.368016  16.916404  1\n",
       "24  18.030082  11.490216  1\n",
       "25   4.436147   6.008804  0\n",
       "26  13.586938   5.377042  0\n",
       "27  11.653677   9.632250  0\n",
       "28   7.032909  12.273721  0\n",
       "29  20.662261  22.811282  1\n",
       "30  16.450200   6.265440  0\n",
       "31   8.942052   7.980884  0\n",
       "32  25.464995  20.352601  1\n",
       "33  10.633718  26.321456  1\n",
       "34   3.547441   8.265382  0"
      ]
     },
     "execution_count": 3,
     "metadata": {},
     "output_type": "execute_result"
    }
   ],
   "source": [
    "train_set"
   ]
  },
  {
   "cell_type": "markdown",
   "metadata": {
    "colab_type": "text",
    "id": "G1_XeFIJQ8PB"
   },
   "source": [
    "Extract (x1, x2) and t separately into NumPy array objects."
   ]
  },
  {
   "cell_type": "code",
   "execution_count": 4,
   "metadata": {
    "cellView": null,
    "colab": {
     "autoexec": {
      "startup": false,
      "wait_interval": 0
     },
     "output_extras": []
    },
    "colab_type": "code",
    "collapsed": true,
    "executionInfo": {
     "elapsed": 2014,
     "status": "ok",
     "timestamp": 1477271709455,
     "user": {
      "displayName": "Etsuji Nakai",
      "photoUrl": "//lh3.googleusercontent.com/-QyrzXWzrxTA/AAAAAAAAAAI/AAAAAAAACFU/MhcRSO-WEyY/s50-c-k-no/photo.jpg",
      "userId": "114362690379795500979"
     },
     "user_tz": -540
    },
    "id": "gABH0VdzQ8PG",
    "outputId": "6b86f6a6-5582-43fc-dafe-a9a15a3ab7ad"
   },
   "outputs": [],
   "source": [
    "train_x = train_set[['x1','x2']].as_matrix()\n",
    "train_t = train_set['t'].as_matrix().reshape([len(train_set), 1])"
   ]
  },
  {
   "cell_type": "markdown",
   "metadata": {
    "colab_type": "text",
    "id": "R5jRYubeQ8PK"
   },
   "source": [
    "Define a relationship to calculate probability p of t=1 for training set."
   ]
  },
  {
   "cell_type": "code",
   "execution_count": 5,
   "metadata": {
    "cellView": null,
    "colab": {
     "autoexec": {
      "startup": false,
      "wait_interval": 0
     },
     "output_extras": []
    },
    "colab_type": "code",
    "collapsed": true,
    "executionInfo": {
     "elapsed": 495,
     "status": "ok",
     "timestamp": 1477271770018,
     "user": {
      "displayName": "Etsuji Nakai",
      "photoUrl": "//lh3.googleusercontent.com/-QyrzXWzrxTA/AAAAAAAAAAI/AAAAAAAACFU/MhcRSO-WEyY/s50-c-k-no/photo.jpg",
      "userId": "114362690379795500979"
     },
     "user_tz": -540
    },
    "id": "GO4VDYwpQ8PN",
    "outputId": "1777469b-93ee-4398-ea80-e56a44a36b1b"
   },
   "outputs": [],
   "source": [
    "x = tf.placeholder(tf.float32, [None, 2])\n",
    "w = tf.Variable(tf.zeros([2, 1]))\n",
    "w0 = tf.Variable(tf.zeros([1]))\n",
    "f = tf.matmul(x, w) + w0\n",
    "p = tf.sigmoid(f)"
   ]
  },
  {
   "cell_type": "markdown",
   "metadata": {
    "colab_type": "text",
    "id": "1-SZRAAbQ8PV"
   },
   "source": [
    "Define a loss function and a training algorithm (train\\_step)."
   ]
  },
  {
   "cell_type": "code",
   "execution_count": 6,
   "metadata": {
    "cellView": null,
    "colab": {
     "autoexec": {
      "startup": false,
      "wait_interval": 0
     },
     "output_extras": []
    },
    "colab_type": "code",
    "collapsed": true,
    "executionInfo": {
     "elapsed": 516,
     "status": "ok",
     "timestamp": 1477271775118,
     "user": {
      "displayName": "Etsuji Nakai",
      "photoUrl": "//lh3.googleusercontent.com/-QyrzXWzrxTA/AAAAAAAAAAI/AAAAAAAACFU/MhcRSO-WEyY/s50-c-k-no/photo.jpg",
      "userId": "114362690379795500979"
     },
     "user_tz": -540
    },
    "id": "f9cK6qcUQ8Pa",
    "outputId": "ed1a46ca-3287-4454-dfd3-abda5e4c437f"
   },
   "outputs": [],
   "source": [
    "t = tf.placeholder(tf.float32, [None, 1])\n",
    "loss = -tf.reduce_sum(t*tf.log(p) + (1-t)*tf.log(1-p))\n",
    "train_step = tf.train.AdamOptimizer().minimize(loss)"
   ]
  },
  {
   "cell_type": "markdown",
   "metadata": {
    "colab_type": "text",
    "id": "Vpas-e9YQ8Pi"
   },
   "source": [
    "Defina an accuracy."
   ]
  },
  {
   "cell_type": "code",
   "execution_count": 7,
   "metadata": {
    "cellView": null,
    "colab": {
     "autoexec": {
      "startup": false,
      "wait_interval": 0
     },
     "output_extras": []
    },
    "colab_type": "code",
    "collapsed": true,
    "executionInfo": {
     "elapsed": 468,
     "status": "ok",
     "timestamp": 1477271780119,
     "user": {
      "displayName": "Etsuji Nakai",
      "photoUrl": "//lh3.googleusercontent.com/-QyrzXWzrxTA/AAAAAAAAAAI/AAAAAAAACFU/MhcRSO-WEyY/s50-c-k-no/photo.jpg",
      "userId": "114362690379795500979"
     },
     "user_tz": -540
    },
    "id": "jiYrW_JBQ8Pj",
    "outputId": "7ae9dcf2-988b-4afe-e26e-6507ad416957"
   },
   "outputs": [],
   "source": [
    "correct_prediction = tf.equal(tf.sign(p-0.5), tf.sign(t-0.5))\n",
    "accuracy = tf.reduce_mean(tf.cast(correct_prediction, tf.float32))"
   ]
  },
  {
   "cell_type": "markdown",
   "metadata": {
    "colab_type": "text",
    "id": "BUWTmyNWQ8Pl"
   },
   "source": [
    "Prepare a session and initialize Variables."
   ]
  },
  {
   "cell_type": "code",
   "execution_count": 8,
   "metadata": {
    "cellView": null,
    "colab": {
     "autoexec": {
      "startup": false,
      "wait_interval": 0
     },
     "output_extras": []
    },
    "colab_type": "code",
    "collapsed": false,
    "executionInfo": {
     "elapsed": 454,
     "status": "ok",
     "timestamp": 1477271865689,
     "user": {
      "displayName": "Etsuji Nakai",
      "photoUrl": "//lh3.googleusercontent.com/-QyrzXWzrxTA/AAAAAAAAAAI/AAAAAAAACFU/MhcRSO-WEyY/s50-c-k-no/photo.jpg",
      "userId": "114362690379795500979"
     },
     "user_tz": -540
    },
    "id": "vsoDiknyQ8Pp",
    "outputId": "e29310f2-9fb5-4be8-c5d8-8b72240f25be"
   },
   "outputs": [],
   "source": [
    "sess = tf.Session()\n",
    "sess.run(tf.global_variables_initializer())"
   ]
  },
  {
   "cell_type": "markdown",
   "metadata": {
    "colab_type": "text",
    "id": "3eLvVSvkQ8Pw"
   },
   "source": [
    "Iterate the optimization using the gradient decent for 20,000 times."
   ]
  },
  {
   "cell_type": "code",
   "execution_count": 9,
   "metadata": {
    "cellView": null,
    "colab": {
     "autoexec": {
      "startup": false,
      "wait_interval": 0
     },
     "output_extras": [
      {
       "item_id": 9
      }
     ]
    },
    "colab_type": "code",
    "collapsed": false,
    "executionInfo": {
     "elapsed": 10743,
     "status": "ok",
     "timestamp": 1477271909101,
     "user": {
      "displayName": "Etsuji Nakai",
      "photoUrl": "//lh3.googleusercontent.com/-QyrzXWzrxTA/AAAAAAAAAAI/AAAAAAAACFU/MhcRSO-WEyY/s50-c-k-no/photo.jpg",
      "userId": "114362690379795500979"
     },
     "user_tz": -540
    },
    "id": "ktybt5LdQ8P1",
    "outputId": "52311638-ce46-49ca-944d-f65c9522520f"
   },
   "outputs": [
    {
     "name": "stdout",
     "output_type": "stream",
     "text": [
      "Step: 2000, Loss: 15.165894, Accuracy: 0.885714\n",
      "Step: 4000, Loss: 10.772635, Accuracy: 0.914286\n",
      "Step: 6000, Loss: 8.197757, Accuracy: 0.971429\n",
      "Step: 8000, Loss: 6.576121, Accuracy: 0.971429\n",
      "Step: 10000, Loss: 5.511984, Accuracy: 0.942857\n",
      "Step: 12000, Loss: 4.798029, Accuracy: 0.942857\n",
      "Step: 14000, Loss: 4.314191, Accuracy: 0.942857\n",
      "Step: 16000, Loss: 3.986273, Accuracy: 0.942857\n",
      "Step: 18000, Loss: 3.766507, Accuracy: 0.942857\n",
      "Step: 20000, Loss: 3.623062, Accuracy: 0.942857\n"
     ]
    }
   ],
   "source": [
    "i = 0\n",
    "for _ in range(20000):\n",
    "    i += 1\n",
    "    sess.run(train_step, feed_dict={x:train_x, t:train_t})\n",
    "    if i % 2000 == 0:\n",
    "        loss_val, acc_val = sess.run(\n",
    "            [loss, accuracy], feed_dict={x:train_x, t:train_t})\n",
    "        print ('Step: %d, Loss: %f, Accuracy: %f'\n",
    "               % (i, loss_val, acc_val))"
   ]
  },
  {
   "cell_type": "markdown",
   "metadata": {
    "colab_type": "text",
    "id": "s5BcTgLeQ8P8"
   },
   "source": [
    "Extract the parameter values."
   ]
  },
  {
   "cell_type": "code",
   "execution_count": 10,
   "metadata": {
    "cellView": null,
    "colab": {
     "autoexec": {
      "startup": false,
      "wait_interval": 0
     },
     "output_extras": [
      {
       "item_id": 1
      }
     ]
    },
    "colab_type": "code",
    "collapsed": false,
    "executionInfo": {
     "elapsed": 435,
     "status": "ok",
     "timestamp": 1477271940750,
     "user": {
      "displayName": "Etsuji Nakai",
      "photoUrl": "//lh3.googleusercontent.com/-QyrzXWzrxTA/AAAAAAAAAAI/AAAAAAAACFU/MhcRSO-WEyY/s50-c-k-no/photo.jpg",
      "userId": "114362690379795500979"
     },
     "user_tz": -540
    },
    "id": "m3dUiEDSQ8QE",
    "outputId": "53cbe29a-5801-4200-cb00-8e2c322096c2"
   },
   "outputs": [
    {
     "name": "stdout",
     "output_type": "stream",
     "text": [
      "-15.6304 0.560301 0.492597\n"
     ]
    }
   ],
   "source": [
    "w0_val, w_val = sess.run([w0, w])\n",
    "w0_val, w1_val, w2_val = w0_val[0], w_val[0][0], w_val[1][0]\n",
    "print w0_val, w1_val, w2_val"
   ]
  },
  {
   "cell_type": "markdown",
   "metadata": {
    "colab_type": "text",
    "id": "iIEsZLUEQ8QO"
   },
   "source": [
    "Draw a graph with the extracted parameter values."
   ]
  },
  {
   "cell_type": "code",
   "execution_count": 11,
   "metadata": {
    "cellView": null,
    "colab": {
     "autoexec": {
      "startup": false,
      "wait_interval": 0
     },
     "output_extras": [
      {
       "item_id": 1
      },
      {
       "item_id": 2
      }
     ]
    },
    "colab_type": "code",
    "collapsed": false,
    "executionInfo": {
     "elapsed": 1079,
     "status": "ok",
     "timestamp": 1477271984126,
     "user": {
      "displayName": "Etsuji Nakai",
      "photoUrl": "//lh3.googleusercontent.com/-QyrzXWzrxTA/AAAAAAAAAAI/AAAAAAAACFU/MhcRSO-WEyY/s50-c-k-no/photo.jpg",
      "userId": "114362690379795500979"
     },
     "user_tz": -540
    },
    "id": "NFV-hQx-Q8QQ",
    "outputId": "82cff092-5df5-438a-b4b4-44ba61649ef3"
   },
   "outputs": [
    {
     "data": {
      "text/plain": [
       "<matplotlib.image.AxesImage at 0x7f8ee02d07d0>"
      ]
     },
     "execution_count": 11,
     "metadata": {},
     "output_type": "execute_result"
    },
    {
     "data": {
      "image/png": "[encoded data removed]",
      "text/plain": [
       "<matplotlib.figure.Figure at 0x7f8ee33f04d0>"
      ]
     },
     "metadata": {},
     "output_type": "display_data"
    }
   ],
   "source": [
    "train_set0 = train_set[train_set['t']==0]\n",
    "train_set1 = train_set[train_set['t']==1]\n",
    "\n",
    "fig = plt.figure(figsize=(6,6))\n",
    "subplot = fig.add_subplot(1,1,1)\n",
    "subplot.grid(False)\n",
    "subplot.set_ylim([0,30])\n",
    "subplot.set_xlim([0,30])\n",
    "subplot.scatter(train_set1.x1, train_set1.x2, marker='o')\n",
    "subplot.scatter(train_set0.x1, train_set0.x2, marker='x')\n",
    "\n",
    "linex = np.linspace(0,30,10)\n",
    "liney = - (w1_val*linex/w2_val + w0_val/w2_val)\n",
    "subplot.plot(linex, liney)\n",
    "\n",
    "field = [[(1 / (1 + np.exp(-(w0_val + w1_val*x1 + w2_val*x2))))\n",
    "          for x1 in np.linspace(0,30,100)]\n",
    "         for x2 in np.linspace(0,30,100)]\n",
    "subplot.imshow(field, origin='lower', extent=(0,30,0,30),\n",
    "               cmap=plt.cm.gray_r, alpha=0.5)"
   ]
  }
 ],
 "metadata": {
  "colab": {
   "default_view": {},
   "name": "Part5: TensorFlow Programming.ipynb",
   "provenance": [],
   "version": "0.3.2",
   "views": {}
  },
  "kernelspec": {
   "display_name": "Python 2",
   "language": "python",
   "name": "python2"
  },
  "language_info": {
   "codemirror_mode": {
    "name": "ipython",
    "version": 2
   },
   "file_extension": ".py",
   "mimetype": "text/x-python",
   "name": "python",
   "nbconvert_exporter": "python",
   "pygments_lexer": "ipython2",
   "version": "2.7.9"
  }
 },
 "nbformat": 4,
 "nbformat_minor": 0
}
