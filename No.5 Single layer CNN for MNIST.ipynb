{
 "cells": [
  {
   "cell_type": "markdown",
   "metadata": {
    "colab_type": "text",
    "id": "LCGlEA9-g-2J"
   },
   "source": [
    "# No.5 Single layer CNN for MNIST"
   ]
  },
  {
   "cell_type": "markdown",
   "metadata": {
    "colab_type": "text",
    "id": "aQ_cBakEfh4s"
   },
   "source": [
    "Import modules."
   ]
  },
  {
   "cell_type": "code",
   "execution_count": 1,
   "metadata": {
    "cellView": null,
    "colab": {
     "autoexec": {
      "startup": false,
      "wait_interval": 0
     }
    },
    "colab_type": "code",
    "collapsed": true,
    "id": "Crju4Pdofh42"
   },
   "outputs": [],
   "source": [
    "import tensorflow as tf\n",
    "import numpy as np\n",
    "import matplotlib.pyplot as plt\n",
    "from tensorflow.examples.tutorials.mnist import input_data"
   ]
  },
  {
   "cell_type": "markdown",
   "metadata": {
    "colab_type": "text",
    "id": "HAGML5qAfh4-"
   },
   "source": [
    "Prepare the MNIST dataset."
   ]
  },
  {
   "cell_type": "code",
   "execution_count": 2,
   "metadata": {
    "cellView": null,
    "colab": {
     "autoexec": {
      "startup": false,
      "wait_interval": 0
     },
     "output_extras": [
      {}
     ]
    },
    "colab_type": "code",
    "collapsed": false,
    "id": "Blzsq08nfh5E",
    "outputId": "0627de16-b904-4c8f-9860-bcbdbadeca5f"
   },
   "outputs": [
    {
     "name": "stdout",
     "output_type": "stream",
     "text": [
      "Extracting ./tmp/data/train-images-idx3-ubyte.gz\n",
      "Extracting ./tmp/data/train-labels-idx1-ubyte.gz\n",
      "Extracting ./tmp/data/t10k-images-idx3-ubyte.gz\n",
      "Extracting ./tmp/data/t10k-labels-idx1-ubyte.gz\n"
     ]
    }
   ],
   "source": [
    "mnist = input_data.read_data_sets(\"./tmp/data/\", one_hot=True)"
   ]
  },
  {
   "cell_type": "markdown",
   "metadata": {
    "colab_type": "text",
    "id": "iigHACwafh5S"
   },
   "source": [
    "Define a convolutional filter and pooling layer."
   ]
  },
  {
   "cell_type": "code",
   "execution_count": 3,
   "metadata": {
    "cellView": null,
    "colab": {
     "autoexec": {
      "startup": false,
      "wait_interval": 0
     }
    },
    "colab_type": "code",
    "collapsed": true,
    "id": "sMAHJW11fh5Y"
   },
   "outputs": [],
   "source": [
    "num_filters = 16\n",
    "\n",
    "x = tf.placeholder(tf.float32, [None, 784])\n",
    "x_image = tf.reshape(x, [-1,28,28,1])\n",
    "\n",
    "W_conv = tf.Variable(tf.truncated_normal([5,5,1,num_filters],\n",
    "                                         stddev=0.1))\n",
    "h_conv = tf.nn.conv2d(x_image, W_conv,\n",
    "                      strides=[1,1,1,1], padding='SAME')\n",
    "h_pool = tf.nn.max_pool(h_conv, ksize=[1,2,2,1],\n",
    "                        strides=[1,2,2,1], padding='SAME')"
   ]
  },
  {
   "cell_type": "markdown",
   "metadata": {
    "colab_type": "text",
    "id": "8bjpvPdyfh5l"
   },
   "source": [
    "Define a fully-connected layer and a softmax function."
   ]
  },
  {
   "cell_type": "code",
   "execution_count": 4,
   "metadata": {
    "cellView": null,
    "colab": {
     "autoexec": {
      "startup": false,
      "wait_interval": 0
     }
    },
    "colab_type": "code",
    "collapsed": true,
    "id": "MEYiNQpjfh5p"
   },
   "outputs": [],
   "source": [
    "h_pool_flat = tf.reshape(h_pool, [-1, 14*14*num_filters])\n",
    "\n",
    "num_units1 = 14*14*num_filters\n",
    "num_units2 = 1024\n",
    "\n",
    "w1 = tf.Variable(tf.truncated_normal([num_units1, num_units2]))\n",
    "b1 = tf.Variable(tf.zeros([num_units2]))\n",
    "hidden1 = tf.nn.relu(tf.matmul(h_pool_flat, w1) + b1)\n",
    "\n",
    "w0 = tf.Variable(tf.zeros([num_units2, 10]))\n",
    "b0 = tf.Variable(tf.zeros([10]))\n",
    "p = tf.nn.softmax(tf.matmul(hidden1, w0) + b0)"
   ]
  },
  {
   "cell_type": "markdown",
   "metadata": {
    "colab_type": "text",
    "id": "NfSFeLzafh5t"
   },
   "source": [
    "Define a loss funtion, training algorithm and accuracy."
   ]
  },
  {
   "cell_type": "code",
   "execution_count": 5,
   "metadata": {
    "cellView": null,
    "colab": {
     "autoexec": {
      "startup": false,
      "wait_interval": 0
     }
    },
    "colab_type": "code",
    "collapsed": true,
    "id": "r25TNHX7fh5v"
   },
   "outputs": [],
   "source": [
    "t = tf.placeholder(tf.float32, [None, 10])\n",
    "loss = -tf.reduce_sum(t * tf.log(p))\n",
    "train_step = tf.train.AdamOptimizer(0.0005).minimize(loss)\n",
    "correct_prediction = tf.equal(tf.argmax(p, 1), tf.argmax(t, 1))\n",
    "accuracy = tf.reduce_mean(tf.cast(correct_prediction, tf.float32))"
   ]
  },
  {
   "cell_type": "markdown",
   "metadata": {
    "colab_type": "text",
    "id": "bZptz2wUfh54"
   },
   "source": [
    "Prepare a session and initialize Variables."
   ]
  },
  {
   "cell_type": "code",
   "execution_count": null,
   "metadata": {
    "cellView": null,
    "colab": {
     "autoexec": {
      "startup": false,
      "wait_interval": 0
     }
    },
    "colab_type": "code",
    "collapsed": false,
    "id": "nC43jsOmfh57"
   },
   "outputs": [],
   "source": [
    "sess = tf.InteractiveSession()\n",
    "sess.run(tf.global_variables_initializer())\n",
    "saver = tf.train.Saver()"
   ]
  },
  {
   "cell_type": "markdown",
   "metadata": {
    "colab_type": "text",
    "id": "jRbUCC1Tfh5-"
   },
   "source": [
    "Iterate the optimization using the stochastic gradient decent for 4,000 times.\n",
    "\n",
    "It finally achieves 98% accuracy for the test set."
   ]
  },
  {
   "cell_type": "code",
   "execution_count": null,
   "metadata": {
    "cellView": null,
    "colab": {
     "autoexec": {
      "startup": false,
      "wait_interval": 0
     },
     "output_extras": [
      {}
     ]
    },
    "colab_type": "code",
    "collapsed": false,
    "id": "4cBNqw7Yfh6A",
    "outputId": "48e1b879-b691-47bd-f6a0-78602f8f4e54"
   },
   "outputs": [
    {
     "name": "stdout",
     "output_type": "stream",
     "text": [
      "Step: 100, Loss: 2451.769531, Accuracy: 0.924100\n",
      "Step: 200, Loss: 1847.569336, Accuracy: 0.945300\n",
      "Step: 300, Loss: 1352.175293, Accuracy: 0.959600\n",
      "Step: 400, Loss: 1461.243530, Accuracy: 0.953800\n",
      "Step: 500, Loss: 1226.550293, Accuracy: 0.959300\n",
      "Step: 600, Loss: 962.809082, Accuracy: 0.969500\n",
      "Step: 700, Loss: 951.627014, Accuracy: 0.970000\n",
      "Step: 800, Loss: 871.440430, Accuracy: 0.973000\n",
      "Step: 900, Loss: 766.654968, Accuracy: 0.976500\n",
      "Step: 1000, Loss: 773.272583, Accuracy: 0.975000\n",
      "Step: 1100, Loss: 736.212891, Accuracy: 0.976900\n",
      "Step: 1200, Loss: 790.456543, Accuracy: 0.975100\n",
      "Step: 1300, Loss: 738.080872, Accuracy: 0.977700\n",
      "Step: 1400, Loss: 772.850220, Accuracy: 0.975500\n",
      "Step: 1500, Loss: 648.673706, Accuracy: 0.979700\n",
      "Step: 1600, Loss: 733.887451, Accuracy: 0.976900\n",
      "Step: 1700, Loss: 596.384888, Accuracy: 0.981400\n",
      "Step: 1800, Loss: 643.289551, Accuracy: 0.981000\n",
      "Step: 1900, Loss: 670.811523, Accuracy: 0.979400\n",
      "Step: 2000, Loss: 643.577087, Accuracy: 0.981000\n"
     ]
    }
   ],
   "source": [
    "i = 0\n",
    "for _ in range(2000):\n",
    "    i += 1\n",
    "    batch_xs, batch_ts = mnist.train.next_batch(100)\n",
    "    sess.run(train_step, feed_dict={x: batch_xs, t: batch_ts})\n",
    "    if i % 100 == 0:\n",
    "        loss_val, acc_val = sess.run([loss, accuracy],\n",
    "            feed_dict={x:mnist.test.images, t:mnist.test.labels})\n",
    "        print ('Step: %d, Loss: %f, Accuracy: %f'\n",
    "               % (i, loss_val, acc_val))\n",
    "        saver.save(sess, './data/mdc_session', global_step=i)"
   ]
  }
 ],
 "metadata": {
  "colab": {
   "default_view": {},
   "name": "Part8-1 Convolutional Neural Network (Single Layer CNN).ipynb",
   "provenance": [],
   "version": "0.3.2",
   "views": {}
  },
  "kernelspec": {
   "display_name": "Python 2",
   "language": "python",
   "name": "python2"
  },
  "language_info": {
   "codemirror_mode": {
    "name": "ipython",
    "version": 2
   },
   "file_extension": ".py",
   "mimetype": "text/x-python",
   "name": "python",
   "nbconvert_exporter": "python",
   "pygments_lexer": "ipython2",
   "version": "2.7.9"
  }
 },
 "nbformat": 4,
 "nbformat_minor": 0
}
